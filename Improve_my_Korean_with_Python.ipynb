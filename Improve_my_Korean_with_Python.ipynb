{
  "nbformat": 4,
  "nbformat_minor": 0,
  "metadata": {
    "colab": {
      "name": "Improve my Korean with Python.ipynb",
      "provenance": []
    },
    "kernelspec": {
      "name": "python3",
      "display_name": "Python 3"
    }
  },
  "cells": [
    {
      "cell_type": "markdown",
      "metadata": {
        "id": "voXkn1IuhFQi",
        "colab_type": "text"
      },
      "source": [
        "#Helping K-pop fans with learning korean\n",
        "\n",
        "Basead(aka most copy and paste) on the work of Niamh Kingsley \n",
        "https://towardsdatascience.com/how-i-used-python-code-to-improve-my-korean-2f3ae09a9773\n",
        "\n",
        "### interesting tasks for the future\n",
        "\n",
        "- memorize the words learned so far so they don't show up in the table\n",
        "- give an URI and extrat the lyrics\n",
        "- give an URI and extract the news\n",
        "- give a base URI and sort the news from the site by the number of new unknown words\n",
        "-text to speech\n",
        "- put everything together\n",
        "- extract a  class/function to do everything"
      ]
    },
    {
      "cell_type": "code",
      "metadata": {
        "id": "68K2J4r6Cabo",
        "colab_type": "code",
        "colab": {
          "base_uri": "https://localhost:8080/",
          "height": 35
        },
        "outputId": "f29e7ace-31b1-497f-f384-dea9750b4486"
      },
      "source": [
        "text = '나는 케이크를 먹고 있다'\n",
        "text"
      ],
      "execution_count": 27,
      "outputs": [
        {
          "output_type": "execute_result",
          "data": {
            "application/vnd.google.colaboratory.intrinsic+json": {
              "type": "string"
            },
            "text/plain": [
              "'나는 케이크를 먹고 있다'"
            ]
          },
          "metadata": {
            "tags": []
          },
          "execution_count": 27
        }
      ]
    },
    {
      "cell_type": "markdown",
      "metadata": {
        "id": "2_y_bQkuhJp6",
        "colab_type": "text"
      },
      "source": [
        ""
      ]
    },
    {
      "cell_type": "code",
      "metadata": {
        "id": "kTba-62Te6VT",
        "colab_type": "code",
        "colab": {
          "base_uri": "https://localhost:8080/",
          "height": 283
        },
        "outputId": "fb4c9d04-db57-4dbc-ae59-f42400709ffe"
      },
      "source": [
        "!pip install googletrans\n"
      ],
      "execution_count": 28,
      "outputs": [
        {
          "output_type": "stream",
          "text": [
            "Requirement already satisfied: googletrans in /usr/local/lib/python3.6/dist-packages (3.0.0)\n",
            "Requirement already satisfied: httpx==0.13.3 in /usr/local/lib/python3.6/dist-packages (from googletrans) (0.13.3)\n",
            "Requirement already satisfied: sniffio in /usr/local/lib/python3.6/dist-packages (from httpx==0.13.3->googletrans) (1.1.0)\n",
            "Requirement already satisfied: hstspreload in /usr/local/lib/python3.6/dist-packages (from httpx==0.13.3->googletrans) (2020.8.18)\n",
            "Requirement already satisfied: certifi in /usr/local/lib/python3.6/dist-packages (from httpx==0.13.3->googletrans) (2020.6.20)\n",
            "Requirement already satisfied: idna==2.* in /usr/local/lib/python3.6/dist-packages (from httpx==0.13.3->googletrans) (2.10)\n",
            "Requirement already satisfied: rfc3986<2,>=1.3 in /usr/local/lib/python3.6/dist-packages (from httpx==0.13.3->googletrans) (1.4.0)\n",
            "Requirement already satisfied: chardet==3.* in /usr/local/lib/python3.6/dist-packages (from httpx==0.13.3->googletrans) (3.0.4)\n",
            "Requirement already satisfied: httpcore==0.9.* in /usr/local/lib/python3.6/dist-packages (from httpx==0.13.3->googletrans) (0.9.1)\n",
            "Requirement already satisfied: contextvars>=2.1; python_version < \"3.7\" in /usr/local/lib/python3.6/dist-packages (from sniffio->httpx==0.13.3->googletrans) (2.4)\n",
            "Requirement already satisfied: h11<0.10,>=0.8 in /usr/local/lib/python3.6/dist-packages (from httpcore==0.9.*->httpx==0.13.3->googletrans) (0.9.0)\n",
            "Requirement already satisfied: h2==3.* in /usr/local/lib/python3.6/dist-packages (from httpcore==0.9.*->httpx==0.13.3->googletrans) (3.2.0)\n",
            "Requirement already satisfied: immutables>=0.9 in /usr/local/lib/python3.6/dist-packages (from contextvars>=2.1; python_version < \"3.7\"->sniffio->httpx==0.13.3->googletrans) (0.14)\n",
            "Requirement already satisfied: hpack<4,>=3.0 in /usr/local/lib/python3.6/dist-packages (from h2==3.*->httpcore==0.9.*->httpx==0.13.3->googletrans) (3.0.0)\n",
            "Requirement already satisfied: hyperframe<6,>=5.2.0 in /usr/local/lib/python3.6/dist-packages (from h2==3.*->httpcore==0.9.*->httpx==0.13.3->googletrans) (5.2.0)\n"
          ],
          "name": "stdout"
        }
      ]
    },
    {
      "cell_type": "code",
      "metadata": {
        "id": "Pm_5a2RaHVf4",
        "colab_type": "code",
        "colab": {
          "base_uri": "https://localhost:8080/",
          "height": 318
        },
        "outputId": "9177fc1f-f377-40a0-9002-8b3648538780"
      },
      "source": [
        " !pip install konlpy"
      ],
      "execution_count": 29,
      "outputs": [
        {
          "output_type": "stream",
          "text": [
            "Requirement already satisfied: konlpy in /usr/local/lib/python3.6/dist-packages (0.5.2)\n",
            "Requirement already satisfied: tweepy>=3.7.0 in /usr/local/lib/python3.6/dist-packages (from konlpy) (3.9.0)\n",
            "Requirement already satisfied: JPype1>=0.7.0 in /usr/local/lib/python3.6/dist-packages (from konlpy) (1.0.2)\n",
            "Requirement already satisfied: numpy>=1.6 in /usr/local/lib/python3.6/dist-packages (from konlpy) (1.18.5)\n",
            "Requirement already satisfied: beautifulsoup4==4.6.0 in /usr/local/lib/python3.6/dist-packages (from konlpy) (4.6.0)\n",
            "Requirement already satisfied: lxml>=4.1.0 in /usr/local/lib/python3.6/dist-packages (from konlpy) (4.2.6)\n",
            "Requirement already satisfied: colorama in /usr/local/lib/python3.6/dist-packages (from konlpy) (0.4.3)\n",
            "Requirement already satisfied: requests[socks]>=2.11.1 in /usr/local/lib/python3.6/dist-packages (from tweepy>=3.7.0->konlpy) (2.23.0)\n",
            "Requirement already satisfied: six>=1.10.0 in /usr/local/lib/python3.6/dist-packages (from tweepy>=3.7.0->konlpy) (1.15.0)\n",
            "Requirement already satisfied: requests-oauthlib>=0.7.0 in /usr/local/lib/python3.6/dist-packages (from tweepy>=3.7.0->konlpy) (1.3.0)\n",
            "Requirement already satisfied: typing-extensions; python_version < \"3.8\" in /usr/local/lib/python3.6/dist-packages (from JPype1>=0.7.0->konlpy) (3.7.4.2)\n",
            "Requirement already satisfied: urllib3!=1.25.0,!=1.25.1,<1.26,>=1.21.1 in /usr/local/lib/python3.6/dist-packages (from requests[socks]>=2.11.1->tweepy>=3.7.0->konlpy) (1.24.3)\n",
            "Requirement already satisfied: chardet<4,>=3.0.2 in /usr/local/lib/python3.6/dist-packages (from requests[socks]>=2.11.1->tweepy>=3.7.0->konlpy) (3.0.4)\n",
            "Requirement already satisfied: idna<3,>=2.5 in /usr/local/lib/python3.6/dist-packages (from requests[socks]>=2.11.1->tweepy>=3.7.0->konlpy) (2.10)\n",
            "Requirement already satisfied: certifi>=2017.4.17 in /usr/local/lib/python3.6/dist-packages (from requests[socks]>=2.11.1->tweepy>=3.7.0->konlpy) (2020.6.20)\n",
            "Requirement already satisfied: PySocks!=1.5.7,>=1.5.6; extra == \"socks\" in /usr/local/lib/python3.6/dist-packages (from requests[socks]>=2.11.1->tweepy>=3.7.0->konlpy) (1.7.1)\n",
            "Requirement already satisfied: oauthlib>=3.0.0 in /usr/local/lib/python3.6/dist-packages (from requests-oauthlib>=0.7.0->tweepy>=3.7.0->konlpy) (3.1.0)\n"
          ],
          "name": "stdout"
        }
      ]
    },
    {
      "cell_type": "code",
      "metadata": {
        "id": "tAKNZNLPHyIA",
        "colab_type": "code",
        "colab": {}
      },
      "source": [
        " from konlpy.tag import Okt\n",
        "from konlpy.utils import pprint\n",
        "from googletrans import Translator\n",
        "from pandas import DataFrame\n"
      ],
      "execution_count": 30,
      "outputs": []
    },
    {
      "cell_type": "code",
      "metadata": {
        "id": "bsxA7fvUH40g",
        "colab_type": "code",
        "colab": {
          "base_uri": "https://localhost:8080/",
          "height": 34
        },
        "outputId": "7cf6210f-06fa-4f32-a099-9874d1d46f1a"
      },
      "source": [
        "okt = Okt()\n",
        "pprint(okt.pos(text, norm=True, stem=True, join=True))\n",
        "#OKT broke text in words"
      ],
      "execution_count": 31,
      "outputs": [
        {
          "output_type": "stream",
          "text": [
            "['나/Noun', '는/Josa', '케이크/Noun', '를/Josa', '먹다/Verb', '있다/Adjective']\n"
          ],
          "name": "stdout"
        }
      ]
    },
    {
      "cell_type": "code",
      "metadata": {
        "id": "Exs5Ct9KIB5w",
        "colab_type": "code",
        "colab": {
          "base_uri": "https://localhost:8080/",
          "height": 656
        },
        "outputId": "17533733-63f7-47bc-9dc9-b319b9dd6a16"
      },
      "source": [
        "okt = Okt()\n",
        "text = '내가 뭐랬어 이길 거랬잖아 믿지 못했어 (정말) 이길 수 있을까 이 기적 아닌 기적을 우리가 만든 걸까 (No) 난 여기 있었고 니가 내게 다가와준 거야'\n",
        "ttrans = (okt.pos(text, norm=True, stem=True, join=True))\n",
        "ttrans\n"
      ],
      "execution_count": 32,
      "outputs": [
        {
          "output_type": "execute_result",
          "data": {
            "text/plain": [
              "['내/Noun',\n",
              " '가/Josa',\n",
              " '뭐랬어/Noun',\n",
              " '이기다/Verb',\n",
              " '거랬잖/Noun',\n",
              " '아/Josa',\n",
              " '믿다/Verb',\n",
              " '못/VerbPrefix',\n",
              " '하다/Verb',\n",
              " '(/Punctuation',\n",
              " '정말/Noun',\n",
              " ')/Punctuation',\n",
              " '이기다/Verb',\n",
              " '수/Noun',\n",
              " '있다/Adjective',\n",
              " '이/Noun',\n",
              " '기적/Noun',\n",
              " '아니다/Adjective',\n",
              " '기적/Noun',\n",
              " '을/Josa',\n",
              " '우리/Noun',\n",
              " '가/Josa',\n",
              " '만들다/Verb',\n",
              " '걸다/Verb',\n",
              " '(/Punctuation',\n",
              " 'No/Alpha',\n",
              " ')/Punctuation',\n",
              " '난/Noun',\n",
              " '여기/Noun',\n",
              " '있다/Adjective',\n",
              " '니/Noun',\n",
              " '가/Josa',\n",
              " '내다/Verb',\n",
              " '다가오다/Verb',\n",
              " '준/Noun',\n",
              " '거야/Eomi']"
            ]
          },
          "metadata": {
            "tags": []
          },
          "execution_count": 32
        }
      ]
    },
    {
      "cell_type": "code",
      "metadata": {
        "id": "HwsrFJzcJOfY",
        "colab_type": "code",
        "colab": {
          "base_uri": "https://localhost:8080/",
          "height": 347
        },
        "outputId": "0757b2bd-2594-4e9b-e587-10e4b7ae3c37"
      },
      "source": [
        "words = DataFrame(ttrans, columns=['original_word'])\n",
        "words.sample(10)"
      ],
      "execution_count": 33,
      "outputs": [
        {
          "output_type": "execute_result",
          "data": {
            "text/html": [
              "<div>\n",
              "<style scoped>\n",
              "    .dataframe tbody tr th:only-of-type {\n",
              "        vertical-align: middle;\n",
              "    }\n",
              "\n",
              "    .dataframe tbody tr th {\n",
              "        vertical-align: top;\n",
              "    }\n",
              "\n",
              "    .dataframe thead th {\n",
              "        text-align: right;\n",
              "    }\n",
              "</style>\n",
              "<table border=\"1\" class=\"dataframe\">\n",
              "  <thead>\n",
              "    <tr style=\"text-align: right;\">\n",
              "      <th></th>\n",
              "      <th>original_word</th>\n",
              "    </tr>\n",
              "  </thead>\n",
              "  <tbody>\n",
              "    <tr>\n",
              "      <th>5</th>\n",
              "      <td>아/Josa</td>\n",
              "    </tr>\n",
              "    <tr>\n",
              "      <th>31</th>\n",
              "      <td>가/Josa</td>\n",
              "    </tr>\n",
              "    <tr>\n",
              "      <th>27</th>\n",
              "      <td>난/Noun</td>\n",
              "    </tr>\n",
              "    <tr>\n",
              "      <th>14</th>\n",
              "      <td>있다/Adjective</td>\n",
              "    </tr>\n",
              "    <tr>\n",
              "      <th>26</th>\n",
              "      <td>)/Punctuation</td>\n",
              "    </tr>\n",
              "    <tr>\n",
              "      <th>32</th>\n",
              "      <td>내다/Verb</td>\n",
              "    </tr>\n",
              "    <tr>\n",
              "      <th>4</th>\n",
              "      <td>거랬잖/Noun</td>\n",
              "    </tr>\n",
              "    <tr>\n",
              "      <th>2</th>\n",
              "      <td>뭐랬어/Noun</td>\n",
              "    </tr>\n",
              "    <tr>\n",
              "      <th>10</th>\n",
              "      <td>정말/Noun</td>\n",
              "    </tr>\n",
              "    <tr>\n",
              "      <th>0</th>\n",
              "      <td>내/Noun</td>\n",
              "    </tr>\n",
              "  </tbody>\n",
              "</table>\n",
              "</div>"
            ],
            "text/plain": [
              "    original_word\n",
              "5          아/Josa\n",
              "31         가/Josa\n",
              "27         난/Noun\n",
              "14   있다/Adjective\n",
              "26  )/Punctuation\n",
              "32        내다/Verb\n",
              "4        거랬잖/Noun\n",
              "2        뭐랬어/Noun\n",
              "10        정말/Noun\n",
              "0          내/Noun"
            ]
          },
          "metadata": {
            "tags": []
          },
          "execution_count": 33
        }
      ]
    },
    {
      "cell_type": "code",
      "metadata": {
        "id": "pVtZJa5eKm_o",
        "colab_type": "code",
        "colab": {
          "base_uri": "https://localhost:8080/",
          "height": 197
        },
        "outputId": "cbd42507-8833-487c-c9f5-2eec72e43225"
      },
      "source": [
        "order = words['original_word'].str.split(\"/\")\n",
        "words['korean'] = order.str[0]\n",
        "words['classification'] = order.str[1]\n",
        "words.head()"
      ],
      "execution_count": 34,
      "outputs": [
        {
          "output_type": "execute_result",
          "data": {
            "text/html": [
              "<div>\n",
              "<style scoped>\n",
              "    .dataframe tbody tr th:only-of-type {\n",
              "        vertical-align: middle;\n",
              "    }\n",
              "\n",
              "    .dataframe tbody tr th {\n",
              "        vertical-align: top;\n",
              "    }\n",
              "\n",
              "    .dataframe thead th {\n",
              "        text-align: right;\n",
              "    }\n",
              "</style>\n",
              "<table border=\"1\" class=\"dataframe\">\n",
              "  <thead>\n",
              "    <tr style=\"text-align: right;\">\n",
              "      <th></th>\n",
              "      <th>original_word</th>\n",
              "      <th>korean</th>\n",
              "      <th>classification</th>\n",
              "    </tr>\n",
              "  </thead>\n",
              "  <tbody>\n",
              "    <tr>\n",
              "      <th>0</th>\n",
              "      <td>내/Noun</td>\n",
              "      <td>내</td>\n",
              "      <td>Noun</td>\n",
              "    </tr>\n",
              "    <tr>\n",
              "      <th>1</th>\n",
              "      <td>가/Josa</td>\n",
              "      <td>가</td>\n",
              "      <td>Josa</td>\n",
              "    </tr>\n",
              "    <tr>\n",
              "      <th>2</th>\n",
              "      <td>뭐랬어/Noun</td>\n",
              "      <td>뭐랬어</td>\n",
              "      <td>Noun</td>\n",
              "    </tr>\n",
              "    <tr>\n",
              "      <th>3</th>\n",
              "      <td>이기다/Verb</td>\n",
              "      <td>이기다</td>\n",
              "      <td>Verb</td>\n",
              "    </tr>\n",
              "    <tr>\n",
              "      <th>4</th>\n",
              "      <td>거랬잖/Noun</td>\n",
              "      <td>거랬잖</td>\n",
              "      <td>Noun</td>\n",
              "    </tr>\n",
              "  </tbody>\n",
              "</table>\n",
              "</div>"
            ],
            "text/plain": [
              "  original_word korean classification\n",
              "0        내/Noun      내           Noun\n",
              "1        가/Josa      가           Josa\n",
              "2      뭐랬어/Noun    뭐랬어           Noun\n",
              "3      이기다/Verb    이기다           Verb\n",
              "4      거랬잖/Noun    거랬잖           Noun"
            ]
          },
          "metadata": {
            "tags": []
          },
          "execution_count": 34
        }
      ]
    },
    {
      "cell_type": "code",
      "metadata": {
        "id": "Xom1PKxXLTNp",
        "colab_type": "code",
        "colab": {
          "base_uri": "https://localhost:8080/",
          "height": 197
        },
        "outputId": "ced91a10-f7ba-4162-afab-47076b28ed57"
      },
      "source": [
        "temp = words.query(\"classification != 'Punctuation'\")\n",
        "temp = temp.drop_duplicates(subset=\"original_word\", keep = False)\n",
        "words = temp.sort_values(\"classification\")\n",
        "words.head()\n",
        "#words.drop(words[koreanlist[\"classification\"] == \"Ponctuation\"'].index,)\n"
      ],
      "execution_count": 35,
      "outputs": [
        {
          "output_type": "execute_result",
          "data": {
            "text/html": [
              "<div>\n",
              "<style scoped>\n",
              "    .dataframe tbody tr th:only-of-type {\n",
              "        vertical-align: middle;\n",
              "    }\n",
              "\n",
              "    .dataframe tbody tr th {\n",
              "        vertical-align: top;\n",
              "    }\n",
              "\n",
              "    .dataframe thead th {\n",
              "        text-align: right;\n",
              "    }\n",
              "</style>\n",
              "<table border=\"1\" class=\"dataframe\">\n",
              "  <thead>\n",
              "    <tr style=\"text-align: right;\">\n",
              "      <th></th>\n",
              "      <th>original_word</th>\n",
              "      <th>korean</th>\n",
              "      <th>classification</th>\n",
              "    </tr>\n",
              "  </thead>\n",
              "  <tbody>\n",
              "    <tr>\n",
              "      <th>17</th>\n",
              "      <td>아니다/Adjective</td>\n",
              "      <td>아니다</td>\n",
              "      <td>Adjective</td>\n",
              "    </tr>\n",
              "    <tr>\n",
              "      <th>25</th>\n",
              "      <td>No/Alpha</td>\n",
              "      <td>No</td>\n",
              "      <td>Alpha</td>\n",
              "    </tr>\n",
              "    <tr>\n",
              "      <th>35</th>\n",
              "      <td>거야/Eomi</td>\n",
              "      <td>거야</td>\n",
              "      <td>Eomi</td>\n",
              "    </tr>\n",
              "    <tr>\n",
              "      <th>19</th>\n",
              "      <td>을/Josa</td>\n",
              "      <td>을</td>\n",
              "      <td>Josa</td>\n",
              "    </tr>\n",
              "    <tr>\n",
              "      <th>5</th>\n",
              "      <td>아/Josa</td>\n",
              "      <td>아</td>\n",
              "      <td>Josa</td>\n",
              "    </tr>\n",
              "  </tbody>\n",
              "</table>\n",
              "</div>"
            ],
            "text/plain": [
              "    original_word korean classification\n",
              "17  아니다/Adjective    아니다      Adjective\n",
              "25       No/Alpha     No          Alpha\n",
              "35        거야/Eomi     거야           Eomi\n",
              "19         을/Josa      을           Josa\n",
              "5          아/Josa      아           Josa"
            ]
          },
          "metadata": {
            "tags": []
          },
          "execution_count": 35
        }
      ]
    },
    {
      "cell_type": "code",
      "metadata": {
        "id": "AU38v4mfN90b",
        "colab_type": "code",
        "colab": {
          "base_uri": "https://localhost:8080/",
          "height": 737
        },
        "outputId": "e43b99c4-ea0e-45bb-84f0-5357f9305a72"
      },
      "source": [
        "#set up translate\n",
        "translator = Translator()\n",
        "\n",
        "# translate by adding a column\n",
        "words['english'] = words['korean'].apply(translator.translate).apply(getattr, args=('text',))\n",
        "\n",
        "# format\n",
        "#del words['original_word']\n",
        "words[['korean', 'classification', 'english']]"
      ],
      "execution_count": 36,
      "outputs": [
        {
          "output_type": "execute_result",
          "data": {
            "text/html": [
              "<div>\n",
              "<style scoped>\n",
              "    .dataframe tbody tr th:only-of-type {\n",
              "        vertical-align: middle;\n",
              "    }\n",
              "\n",
              "    .dataframe tbody tr th {\n",
              "        vertical-align: top;\n",
              "    }\n",
              "\n",
              "    .dataframe thead th {\n",
              "        text-align: right;\n",
              "    }\n",
              "</style>\n",
              "<table border=\"1\" class=\"dataframe\">\n",
              "  <thead>\n",
              "    <tr style=\"text-align: right;\">\n",
              "      <th></th>\n",
              "      <th>korean</th>\n",
              "      <th>classification</th>\n",
              "      <th>english</th>\n",
              "    </tr>\n",
              "  </thead>\n",
              "  <tbody>\n",
              "    <tr>\n",
              "      <th>17</th>\n",
              "      <td>아니다</td>\n",
              "      <td>Adjective</td>\n",
              "      <td>no</td>\n",
              "    </tr>\n",
              "    <tr>\n",
              "      <th>25</th>\n",
              "      <td>No</td>\n",
              "      <td>Alpha</td>\n",
              "      <td>No</td>\n",
              "    </tr>\n",
              "    <tr>\n",
              "      <th>35</th>\n",
              "      <td>거야</td>\n",
              "      <td>Eomi</td>\n",
              "      <td>Will</td>\n",
              "    </tr>\n",
              "    <tr>\n",
              "      <th>19</th>\n",
              "      <td>을</td>\n",
              "      <td>Josa</td>\n",
              "      <td>of</td>\n",
              "    </tr>\n",
              "    <tr>\n",
              "      <th>5</th>\n",
              "      <td>아</td>\n",
              "      <td>Josa</td>\n",
              "      <td>Ah</td>\n",
              "    </tr>\n",
              "    <tr>\n",
              "      <th>0</th>\n",
              "      <td>내</td>\n",
              "      <td>Noun</td>\n",
              "      <td>of mine</td>\n",
              "    </tr>\n",
              "    <tr>\n",
              "      <th>10</th>\n",
              "      <td>정말</td>\n",
              "      <td>Noun</td>\n",
              "      <td>Really</td>\n",
              "    </tr>\n",
              "    <tr>\n",
              "      <th>13</th>\n",
              "      <td>수</td>\n",
              "      <td>Noun</td>\n",
              "      <td>Number</td>\n",
              "    </tr>\n",
              "    <tr>\n",
              "      <th>15</th>\n",
              "      <td>이</td>\n",
              "      <td>Noun</td>\n",
              "      <td>this</td>\n",
              "    </tr>\n",
              "    <tr>\n",
              "      <th>4</th>\n",
              "      <td>거랬잖</td>\n",
              "      <td>Noun</td>\n",
              "      <td>I said</td>\n",
              "    </tr>\n",
              "    <tr>\n",
              "      <th>34</th>\n",
              "      <td>준</td>\n",
              "      <td>Noun</td>\n",
              "      <td>June</td>\n",
              "    </tr>\n",
              "    <tr>\n",
              "      <th>20</th>\n",
              "      <td>우리</td>\n",
              "      <td>Noun</td>\n",
              "      <td>Us</td>\n",
              "    </tr>\n",
              "    <tr>\n",
              "      <th>30</th>\n",
              "      <td>니</td>\n",
              "      <td>Noun</td>\n",
              "      <td>Nice</td>\n",
              "    </tr>\n",
              "    <tr>\n",
              "      <th>2</th>\n",
              "      <td>뭐랬어</td>\n",
              "      <td>Noun</td>\n",
              "      <td>What did you say</td>\n",
              "    </tr>\n",
              "    <tr>\n",
              "      <th>27</th>\n",
              "      <td>난</td>\n",
              "      <td>Noun</td>\n",
              "      <td>I</td>\n",
              "    </tr>\n",
              "    <tr>\n",
              "      <th>28</th>\n",
              "      <td>여기</td>\n",
              "      <td>Noun</td>\n",
              "      <td>here</td>\n",
              "    </tr>\n",
              "    <tr>\n",
              "      <th>33</th>\n",
              "      <td>다가오다</td>\n",
              "      <td>Verb</td>\n",
              "      <td>to come closer</td>\n",
              "    </tr>\n",
              "    <tr>\n",
              "      <th>32</th>\n",
              "      <td>내다</td>\n",
              "      <td>Verb</td>\n",
              "      <td>Pay</td>\n",
              "    </tr>\n",
              "    <tr>\n",
              "      <th>6</th>\n",
              "      <td>믿다</td>\n",
              "      <td>Verb</td>\n",
              "      <td>believe</td>\n",
              "    </tr>\n",
              "    <tr>\n",
              "      <th>8</th>\n",
              "      <td>하다</td>\n",
              "      <td>Verb</td>\n",
              "      <td>Do</td>\n",
              "    </tr>\n",
              "    <tr>\n",
              "      <th>23</th>\n",
              "      <td>걸다</td>\n",
              "      <td>Verb</td>\n",
              "      <td>bet</td>\n",
              "    </tr>\n",
              "    <tr>\n",
              "      <th>22</th>\n",
              "      <td>만들다</td>\n",
              "      <td>Verb</td>\n",
              "      <td>to make</td>\n",
              "    </tr>\n",
              "    <tr>\n",
              "      <th>7</th>\n",
              "      <td>못</td>\n",
              "      <td>VerbPrefix</td>\n",
              "      <td>nail</td>\n",
              "    </tr>\n",
              "  </tbody>\n",
              "</table>\n",
              "</div>"
            ],
            "text/plain": [
              "   korean classification           english\n",
              "17    아니다      Adjective                no\n",
              "25     No          Alpha                No\n",
              "35     거야           Eomi              Will\n",
              "19      을           Josa                of\n",
              "5       아           Josa                Ah\n",
              "0       내           Noun           of mine\n",
              "10     정말           Noun            Really\n",
              "13      수           Noun            Number\n",
              "15      이           Noun              this\n",
              "4     거랬잖           Noun            I said\n",
              "34      준           Noun              June\n",
              "20     우리           Noun                Us\n",
              "30      니           Noun              Nice\n",
              "2     뭐랬어           Noun  What did you say\n",
              "27      난           Noun                 I\n",
              "28     여기           Noun              here\n",
              "33   다가오다           Verb    to come closer\n",
              "32     내다           Verb               Pay\n",
              "6      믿다           Verb           believe\n",
              "8      하다           Verb                Do\n",
              "23     걸다           Verb               bet\n",
              "22    만들다           Verb           to make\n",
              "7       못     VerbPrefix              nail"
            ]
          },
          "metadata": {
            "tags": []
          },
          "execution_count": 36
        }
      ]
    },
    {
      "cell_type": "code",
      "metadata": {
        "id": "P943Auay4YXZ",
        "colab_type": "code",
        "colab": {}
      },
      "source": [
        " "
      ],
      "execution_count": 36,
      "outputs": []
    }
  ]
}